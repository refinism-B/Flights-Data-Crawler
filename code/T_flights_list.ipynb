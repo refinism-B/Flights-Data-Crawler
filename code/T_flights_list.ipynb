{
 "cells": [
  {
   "cell_type": "code",
   "execution_count": 5,
   "id": "3a57e694",
   "metadata": {},
   "outputs": [],
   "source": [
    "import os\n",
    "from datetime import date, datetime, timedelta\n",
    "from pathlib import Path\n",
    "\n",
    "import pandas as pd\n",
    "from dotenv import load_dotenv\n",
    "from sqlalchemy import create_engine\n",
    "\n",
    "from Mods import date_mod as dtm\n",
    "from Mods import pandas_mod as pdm"
   ]
  },
  {
   "cell_type": "code",
   "execution_count": null,
   "id": "6d6a37f7",
   "metadata": {},
   "outputs": [],
   "source": [
    "load_dotenv()\n",
    "\n",
    "username = os.getenv(\"MYSQL_USERNAME\")\n",
    "password = os.getenv(\"MYSQL_PASSWORD\")\n",
    "target_ip = os.getenv(\"MYSQL_IP\")\n",
    "target_port = int(os.getenv(\"MYSQL_PORTT\"))\n",
    "db_name = os.getenv(\"MYSQL_DB_NAME\")\n",
    "\n",
    "engine = create_engine(\n",
    "    f\"mysql+pymysql://{username}:{password}@{target_ip}:{target_port}/{db_name}\")\n",
    "\n",
    "sql = \"SELECT * FROM flights_list\"\n",
    "\n",
    "df_main = pd.read_sql(sql, engine)"
   ]
  },
  {
   "cell_type": "code",
   "execution_count": 8,
   "id": "ac9cf8c2",
   "metadata": {},
   "outputs": [
    {
     "name": "stdout",
     "output_type": "stream",
     "text": [
      "已處理EVA航班列表資料\n",
      "已處理CAL航班列表資料\n",
      "已處理SJX航班列表資料\n",
      "已處理TTW航班列表資料\n",
      "已處理完所有資料\n"
     ]
    }
   ],
   "source": [
    "folder = r\"C:\\Users\\add41\\Documents\\Data_Engineer\\Project\\Flights-Data-Crawler\\Data\"\n",
    "\n",
    "corp_list = [\"EVA\", \"CAL\", \"SJX\", \"TTW\"]\n",
    "day = dtm.get_yesterday()\n",
    "\n",
    "for corp in corp_list:\n",
    "    file = f\"{day}_{corp}_FlightList.csv\"\n",
    "    exist, file_path = pdm.exist_or_not(folder, file)\n",
    "\n",
    "    if exist:\n",
    "        df = pd.read_csv(file_path)\n",
    "    else:\n",
    "        print(f\"查無{corp}的{day}資料，請確認資料是否存在\")\n",
    "        continue\n",
    "\n",
    "    # 將機場名稱中的Int'l字樣去除，並去除前後空白\n",
    "    df['departure_airport'] = df['departure_airport'].str.replace(\n",
    "        \"Int\\'l\", \"\").str.replace(\"Intl\", \"\").str.strip()\n",
    "    df['arrival_airport'] = df['arrival_airport'].str.replace(\n",
    "        \"Int\\'l\", \"\").str.replace(\"Intl\", \"\").str.strip()\n",
    "    \n",
    "    df[\"corp\"] = corp\n",
    "\n",
    "    df[\"flight_id\"] = \"\"\n",
    "    df_main = pd.concat([df_main, df], ignore_index=True)\n",
    "\n",
    "    df.to_csv(file_path, index=False)\n",
    "    print(f\"已處理{corp}航班列表資料\")\n",
    "\n",
    "print(\"已處理完所有資料\")"
   ]
  },
  {
   "cell_type": "code",
   "execution_count": 9,
   "id": "11bcd11b",
   "metadata": {},
   "outputs": [
    {
     "name": "stdout",
     "output_type": "stream",
     "text": [
      "已儲存置資料庫\n"
     ]
    }
   ],
   "source": [
    "df_main.drop_duplicates(subset=\"link\", keep=\"first\", inplace=True)\n",
    "df_main.dropna(inplace=True)\n",
    "\n",
    "df_main = pdm.reassign_id(df_main, \"flight_id\", \"FLT_\")\n",
    "\n",
    "new_col = ['flight_id', 'flight_no', \"corp\", 'flight_type', 'departure_airport', 'departure_airport_code_1',\n",
    "           'departure_airport_code_2', 'arrival_airport', 'arrival_airport_code_1', 'arrival_airport_code_2', 'link', 'query_date']\n",
    "df_main = df_main[new_col]\n",
    "\n",
    "df_main.to_sql(name=\"flights_list\", con=engine,\n",
    "               index=False, if_exists=\"replace\")\n",
    "print(\"已儲存置資料庫\")"
   ]
  },
  {
   "cell_type": "code",
   "execution_count": null,
   "id": "6a1a981c",
   "metadata": {},
   "outputs": [],
   "source": []
  }
 ],
 "metadata": {
  "kernelspec": {
   "display_name": "flights-data-crawler-HkKwTBFH-py3.11",
   "language": "python",
   "name": "python3"
  },
  "language_info": {
   "codemirror_mode": {
    "name": "ipython",
    "version": 3
   },
   "file_extension": ".py",
   "mimetype": "text/x-python",
   "name": "python",
   "nbconvert_exporter": "python",
   "pygments_lexer": "ipython3",
   "version": "3.11.9"
  }
 },
 "nbformat": 4,
 "nbformat_minor": 5
}
