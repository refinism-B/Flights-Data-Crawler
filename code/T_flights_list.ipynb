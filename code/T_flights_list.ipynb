{
 "cells": [
  {
   "cell_type": "code",
   "execution_count": null,
   "id": "3a57e694",
   "metadata": {},
   "outputs": [],
   "source": [
    "import pandas as pd"
   ]
  },
  {
   "cell_type": "code",
   "execution_count": null,
   "id": "99cbfb74",
   "metadata": {},
   "outputs": [],
   "source": [
    "# 將機場名稱中的Int'l字樣去除，並去除前後空白\n",
    "df_corp['departure_airport'] = df_corp['departure_airport'].str.replace(\"Int\\'l\", \"\").str.replace(\"Intl\", \"\").str.strip()\n",
    "df_corp['arrival_airport'] = df_corp['arrival_airport'].str.replace(\"Int\\'l\", \"\").str.replace(\"Intl\", \"\").str.strip()"
   ]
  }
 ],
 "metadata": {
  "kernelspec": {
   "display_name": "flights-data-crawler-HkKwTBFH-py3.11",
   "language": "python",
   "name": "python3"
  },
  "language_info": {
   "name": "python",
   "version": "3.11.9"
  }
 },
 "nbformat": 4,
 "nbformat_minor": 5
}
