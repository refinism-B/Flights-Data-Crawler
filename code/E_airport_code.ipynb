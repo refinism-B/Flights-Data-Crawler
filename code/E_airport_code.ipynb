{
 "cells": [
  {
   "cell_type": "code",
   "execution_count": null,
   "id": "e20e2b32",
   "metadata": {},
   "outputs": [],
   "source": [
    "import pandas as pd\n",
    "import os\n",
    "from datetime import date, datetime, timedelta\n",
    "from pathlib import Path\n",
    "from dotenv import load_dotenv\n",
    "from sqlalchemy import create_engine\n",
    "from Mods import pandas_mod as pdm\n",
    "from Mods import date_mod as dtm"
   ]
  },
  {
   "cell_type": "code",
   "execution_count": null,
   "id": "e2c49d69",
   "metadata": {},
   "outputs": [],
   "source": [
    "def reassign_id(df, id_col_name, id_str):\n",
    "    \"\"\"根據原有最後一筆資料進行自動編號\"\"\"\n",
    "\n",
    "    # 先找出原本的id編號（id欄位非空）最大值\n",
    "    nums = df.loc[df[id_col_name] != \"\", id_col_name].str.extract(r\"(\\d+)\").astype(int)\n",
    "\n",
    "    if nums.empty:\n",
    "        start_num = 1\n",
    "    else:\n",
    "        start_num = nums.max()[0] + 1\n",
    "\n",
    "    # 計算需要新增的資料數\n",
    "    empty_id = df[id_col_name] == \"\"\n",
    "    empty_id_count = empty_id.sum()\n",
    "\n",
    "    # 先列出編號list\n",
    "    new_id = [f\"{id_str}{i:03d}\" for i in range(start_num, start_num + empty_id_count)]\n",
    "\n",
    "    # 將list放入df欄位\n",
    "    df.loc[empty_id, id_col_name] = new_id\n",
    "\n",
    "    return df"
   ]
  },
  {
   "cell_type": "code",
   "execution_count": 3,
   "id": "d36960b6",
   "metadata": {},
   "outputs": [],
   "source": [
    "# 連線資料庫，並讀取主檔\n",
    "load_dotenv()\n",
    "\n",
    "username = os.getenv(\"MYSQL_USERNAME\")\n",
    "password = os.getenv(\"MYSQL_PASSWORD\")\n",
    "target_ip = os.getenv(\"MYSQL_IP\")\n",
    "target_port = int(os.getenv(\"MYSQL_PORTT\"))\n",
    "db_name = os.getenv(\"MYSQL_DB_NAME\")\n",
    "\n",
    "engine = create_engine(f\"mysql+pymysql://{username}:{password}@{target_ip}:{target_port}/{db_name}\")\n",
    "\n",
    "sql = \"SELECT * FROM airport\"\n",
    "\n",
    "df_main = pd.read_sql(sql, engine)"
   ]
  },
  {
   "cell_type": "code",
   "execution_count": null,
   "id": "faf2c3dd",
   "metadata": {},
   "outputs": [
    {
     "name": "stdout",
     "output_type": "stream",
     "text": [
      "查無EVA的2025-10-27資料，請確認資料是否存在！\n",
      "查無CAL的2025-10-27資料，請確認資料是否存在！\n",
      "查無SJX的2025-10-27資料，請確認資料是否存在！\n",
      "查無TTW的2025-10-27資料，請確認資料是否存在！\n"
     ]
    }
   ],
   "source": [
    "# 設定欄位名、檔案路徑\n",
    "folder = r\"C:\\Users\\add41\\Documents\\Data_Engineer\\Project\\Flights-Data-Crawler\\Data\"\n",
    "\n",
    "corp_list = [\"EVA\", \"CAL\", \"SJX\", \"TTW\"]\n",
    "columns = [\"airport\", \"code_1\", \"code_2\"]\n",
    "day = dtm.get_yesterday()\n",
    "\n",
    "# 根據公司開始迴圈，逐一讀入並合併至主表\n",
    "for corp in corp_list:\n",
    "    file = f\"{day}_{corp}_FlightList.csv\"\n",
    "    exist, file_path = pdm.exist_or_not(folder, file)\n",
    "\n",
    "    # 若找不到今日資料檔案則回傳訊息並跳過\n",
    "    if exist:\n",
    "        df = pd.read_csv(file_path)\n",
    "    else:\n",
    "        print(f\"查無{corp}的{day}資料，請確認資料是否存在！\")\n",
    "        continue\n",
    "\n",
    "    # 將起飛和抵達機場做成兩個df並合併，最後再與主表合併\n",
    "    depar_airport = df[[\"departure_airport\", \"departure_airport_code_1\", \"departure_airport_code_2\"]]\n",
    "    arrival_airport = df[[\"arrival_airport\", \"arrival_airport_code_1\", \"arrival_airport_code_2\"]]\n",
    "\n",
    "    depar_airport.columns = columns\n",
    "    arrival_airport.columns = columns\n",
    "\n",
    "    df_airport = pd.concat([depar_airport, arrival_airport], ignore_index=True)\n",
    "    df_airport[\"APT_id\"] = \"\"\n",
    "\n",
    "    df_main = pd.concat([df_main, df_airport], ignore_index=True)"
   ]
  },
  {
   "cell_type": "code",
   "execution_count": 5,
   "id": "1e2c0e1d",
   "metadata": {},
   "outputs": [
    {
     "name": "stdout",
     "output_type": "stream",
     "text": [
      "已更新機場列表，目前資料筆數：54\n"
     ]
    }
   ],
   "source": [
    "# 去除重複資料及含有空值資料（理論上不應存在，如有則去除）\n",
    "subset_col = [\"airport\", \"code_1\", \"code_2\"]\n",
    "df_main.drop_duplicates(subset=subset_col, inplace=True, keep=\"first\")\n",
    "df_main.dropna(inplace=True)\n",
    "\n",
    "# 透過函式自動編號\n",
    "df_main = reassign_id(df_main, \"APT_id\", \"APT\")\n",
    "\n",
    "# 存檔至地端\n",
    "main_file = \"airport.csv\"\n",
    "main_path = os.path.join(folder, main_file)\n",
    "df_main.to_csv(main_path, index=False)\n",
    "\n",
    "# 存檔至資料庫\n",
    "df_main.to_sql(name=\"airport\", con=engine, index=False, if_exists=\"replace\")\n",
    "\n",
    "print(f\"已更新機場列表，目前資料筆數：{len(df_main)}\")"
   ]
  },
  {
   "cell_type": "code",
   "execution_count": null,
   "id": "4abdbdf1",
   "metadata": {},
   "outputs": [],
   "source": []
  }
 ],
 "metadata": {
  "kernelspec": {
   "display_name": "flights-data-crawler-HkKwTBFH-py3.11",
   "language": "python",
   "name": "python3"
  },
  "language_info": {
   "codemirror_mode": {
    "name": "ipython",
    "version": 3
   },
   "file_extension": ".py",
   "mimetype": "text/x-python",
   "name": "python",
   "nbconvert_exporter": "python",
   "pygments_lexer": "ipython3",
   "version": "3.11.9"
  }
 },
 "nbformat": 4,
 "nbformat_minor": 5
}
