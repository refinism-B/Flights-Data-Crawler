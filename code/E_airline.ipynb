{
 "cells": [
  {
   "cell_type": "code",
   "execution_count": 5,
   "id": "442b919a",
   "metadata": {},
   "outputs": [],
   "source": [
    "import pandas as pd\n",
    "import os\n",
    "from datetime import date, datetime, timedelta\n",
    "from pathlib import Path\n",
    "from dotenv import load_dotenv\n",
    "from sqlalchemy import create_engine\n",
    "from Mods import pandas_mod as pdm\n",
    "from Mods import date_mod as dtm"
   ]
  },
  {
   "cell_type": "code",
   "execution_count": 6,
   "id": "f5a044d5",
   "metadata": {},
   "outputs": [],
   "source": [
    "# 連線資料庫，讀取主表\n",
    "load_dotenv()\n",
    "\n",
    "username = os.getenv(\"MYSQL_USERNAME\")\n",
    "password = os.getenv(\"MYSQL_PASSWORD\")\n",
    "target_ip = os.getenv(\"MYSQL_IP\")\n",
    "target_port = int(os.getenv(\"MYSQL_PORTT\"))\n",
    "db_name = os.getenv(\"MYSQL_DB_NAME\")\n",
    "\n",
    "engine = create_engine(f\"mysql+pymysql://{username}:{password}@{target_ip}:{target_port}/{db_name}\")\n",
    "\n",
    "sql = \"SELECT * FROM airline\"\n",
    "\n",
    "df_main = pd.read_sql(sql, engine)"
   ]
  },
  {
   "cell_type": "code",
   "execution_count": 7,
   "id": "fdd75809",
   "metadata": {},
   "outputs": [],
   "source": [
    "# 設定欄位名、檔案路徑\n",
    "folder = r\"C:\\Users\\add41\\Documents\\Data_Engineer\\Project\\Flights-Data-Crawler\\Data\"\n",
    "\n",
    "corp_list = [\"EVA\", \"CAL\", \"SJX\", \"TTW\"]\n",
    "columns = [\"airport\", \"code_1\", \"code_2\"]\n",
    "day = dtm.get_yesterday()\n",
    "\n",
    "# 根據公司開始迴圈，逐一讀入並合併至主表\n",
    "for corp in corp_list:\n",
    "    file = f\"{day}_{corp}_FlightList.csv\"\n",
    "    exist, file_path = pdm.exist_or_not(folder, file)\n",
    "\n",
    "    # 若找不到今日資料檔案則回傳訊息並跳過\n",
    "    if exist:\n",
    "        df = pd.read_csv(file_path)\n",
    "    else:\n",
    "        print(f\"查無{corp}的{day}資料，請確認資料是否存在！\")\n",
    "        continue\n",
    "\n",
    "    # 取出起飛和抵達機場作為一個新表，並與舊表合併\n",
    "    df_airline = df[[\"departure_airport\", \"departure_airport_code_1\", \"departure_airport_code_2\",\n",
    "                     \"arrival_airport\", \"arrival_airport_code_1\", \"arrival_airport_code_2\"]].copy()\n",
    "\n",
    "    df_airline[\"ARL_id\"] = \"\"\n",
    "\n",
    "    df_main = pd.concat([df_main, df_airline], ignore_index=True)"
   ]
  },
  {
   "cell_type": "code",
   "execution_count": 8,
   "id": "db646e03",
   "metadata": {},
   "outputs": [
    {
     "name": "stdout",
     "output_type": "stream",
     "text": [
      "已更新航線列表，目前資料筆數：274\n"
     ]
    }
   ],
   "source": [
    "# 去除重複資料及含有空值資料（理論上不應存在，如有則去除）\n",
    "subset_col = [\"departure_airport\", \"departure_airport_code_1\", \"departure_airport_code_2\",\n",
    "              \"arrival_airport\", \"arrival_airport_code_1\", \"arrival_airport_code_2\"]\n",
    "df_main.drop_duplicates(subset=subset_col, inplace=True, keep=\"first\")\n",
    "df_main.dropna(inplace=True)\n",
    "\n",
    "# 透過函式自動編號\n",
    "df_main = pdm.reassign_id(df_main, \"ARL_id\", \"ARL\")\n",
    "\n",
    "# 存檔至地端\n",
    "main_file = \"airline.csv\"\n",
    "main_path = os.path.join(folder, main_file)\n",
    "df_main.to_csv(main_path, index=False)\n",
    "\n",
    "# 存檔至資料庫\n",
    "df_main.to_sql(name=\"airline\", con=engine, index=False, if_exists=\"replace\")\n",
    "\n",
    "print(f\"已更新航線列表，目前資料筆數：{len(df_main)}\")"
   ]
  }
 ],
 "metadata": {
  "kernelspec": {
   "display_name": "flights-data-crawler-HkKwTBFH-py3.11",
   "language": "python",
   "name": "python3"
  },
  "language_info": {
   "codemirror_mode": {
    "name": "ipython",
    "version": 3
   },
   "file_extension": ".py",
   "mimetype": "text/x-python",
   "name": "python",
   "nbconvert_exporter": "python",
   "pygments_lexer": "ipython3",
   "version": "3.11.9"
  }
 },
 "nbformat": 4,
 "nbformat_minor": 5
}
